{
 "cells": [
  {
   "cell_type": "code",
   "execution_count": 1,
   "metadata": {},
   "outputs": [],
   "source": [
    "import pandas as pd\n",
    "import numpy as np\n",
    "import matplotlib.pyplot as plt\n",
    "%matplotlib inline\n",
    "import datetime"
   ]
  },
  {
   "cell_type": "markdown",
   "metadata": {},
   "source": [
    "# Importing the Donors csv and making a few amendments to it"
   ]
  },
  {
   "cell_type": "code",
   "execution_count": 2,
   "metadata": {},
   "outputs": [],
   "source": [
    "donors=pd.read_csv('Donors.csv')"
   ]
  },
  {
   "cell_type": "code",
   "execution_count": 3,
   "metadata": {},
   "outputs": [],
   "source": [
    "donors['Unix Time of registeration']=donors['Unix Time of registeration'\n",
    "                                           ].apply(lambda x: datetime.datetime.fromtimestamp(int(x)\n",
    "                                            ).strftime('%Y-%m-%d %H:%M:%S'))"
   ]
  },
  {
   "cell_type": "code",
   "execution_count": 4,
   "metadata": {
    "scrolled": false
   },
   "outputs": [],
   "source": [
    "donors = donors.rename({'Unix Time of registeration': 'Unix Time'}, axis=1)\n",
    "donors.drop(['Unnamed: 0','City'], axis=1, inplace=True)"
   ]
  },
  {
   "cell_type": "markdown",
   "metadata": {},
   "source": [
    "# Importing the Order and Appointment datasets"
   ]
  },
  {
   "cell_type": "code",
   "execution_count": 5,
   "metadata": {},
   "outputs": [],
   "source": [
    "orders = pd.read_csv('orders_updated_29_03.csv')\n",
    "orders=orders.drop(['State'], axis = 1)\n",
    "appt = pd.read_csv('Cleaned_Appointment.csv')\n",
    "appt=appt.rename({'Appointment ID': 'AppID', 'Appointment Date': 'AppDate'}, axis=1)\n",
    "appt = appt.drop(['Unnamed: 0'], axis = 1)"
   ]
  },
  {
   "cell_type": "code",
   "execution_count": 6,
   "metadata": {},
   "outputs": [],
   "source": [
    "from datetime import datetime\n",
    "orders['Date'] = orders['Unix Time'].apply(lambda x: datetime.utcfromtimestamp(x).strftime('%Y-%m-%d'))\n",
    "orders['Year'] = orders['Unix Time'].apply(lambda x: datetime.utcfromtimestamp(x).strftime('%Y'))\n",
    "orders['Month'] = orders['Unix Time'].apply(lambda x: datetime.utcfromtimestamp(x).strftime('%B'))\n",
    "orders['Day of Week'] = orders['Unix Time'].apply(lambda x: datetime.utcfromtimestamp(x).strftime('%A'))"
   ]
  },
  {
   "cell_type": "code",
   "execution_count": 7,
   "metadata": {},
   "outputs": [],
   "source": [
    "orders = orders.drop(['Unix Time','End Point Geo-location'], axis = 1)"
   ]
  },
  {
   "cell_type": "code",
   "execution_count": 8,
   "metadata": {},
   "outputs": [],
   "source": [
    "orders['state_list']=orders['state_list'].replace({'Fct, Abuja': r'Abuja'}, regex=True)"
   ]
  },
  {
   "cell_type": "markdown",
   "metadata": {},
   "source": [
    "# Printing the three dataframes together for comparison"
   ]
  },
  {
   "cell_type": "code",
   "execution_count": 9,
   "metadata": {
    "scrolled": true
   },
   "outputs": [
    {
     "data": {
      "text/html": [
       "<div>\n",
       "<style scoped>\n",
       "    .dataframe tbody tr th:only-of-type {\n",
       "        vertical-align: middle;\n",
       "    }\n",
       "\n",
       "    .dataframe tbody tr th {\n",
       "        vertical-align: top;\n",
       "    }\n",
       "\n",
       "    .dataframe thead th {\n",
       "        text-align: right;\n",
       "    }\n",
       "</style>\n",
       "<table border=\"1\" class=\"dataframe\">\n",
       "  <thead>\n",
       "    <tr style=\"text-align: right;\">\n",
       "      <th></th>\n",
       "      <th>Order ID</th>\n",
       "      <th>Blood Type</th>\n",
       "      <th>Hospital ID</th>\n",
       "      <th>BloodBank ID</th>\n",
       "      <th>Cross Matching</th>\n",
       "      <th>QTY</th>\n",
       "      <th>Address</th>\n",
       "      <th>lat</th>\n",
       "      <th>long</th>\n",
       "      <th>Date</th>\n",
       "      <th>Year</th>\n",
       "      <th>Month</th>\n",
       "      <th>Day of Week</th>\n",
       "      <th>geometry</th>\n",
       "      <th>state_list</th>\n",
       "    </tr>\n",
       "  </thead>\n",
       "  <tbody>\n",
       "    <tr>\n",
       "      <td>0</td>\n",
       "      <td>1</td>\n",
       "      <td>B+</td>\n",
       "      <td>2154730</td>\n",
       "      <td>1</td>\n",
       "      <td>Yes</td>\n",
       "      <td>5</td>\n",
       "      <td>Military Hospital, Igbogbi, Lagos</td>\n",
       "      <td>6.522464</td>\n",
       "      <td>3.373477</td>\n",
       "      <td>2016-06-15</td>\n",
       "      <td>2016</td>\n",
       "      <td>June</td>\n",
       "      <td>Wednesday</td>\n",
       "      <td>POINT (3.3734771 6.5224642)</td>\n",
       "      <td>Lagos</td>\n",
       "    </tr>\n",
       "    <tr>\n",
       "      <td>1</td>\n",
       "      <td>2</td>\n",
       "      <td>O+</td>\n",
       "      <td>1250873</td>\n",
       "      <td>1</td>\n",
       "      <td>Yes</td>\n",
       "      <td>1</td>\n",
       "      <td>General Hospital Road, Araromi, Gbagada, Lagos</td>\n",
       "      <td>6.552921</td>\n",
       "      <td>3.388054</td>\n",
       "      <td>2016-06-23</td>\n",
       "      <td>2016</td>\n",
       "      <td>June</td>\n",
       "      <td>Thursday</td>\n",
       "      <td>POINT (3.3880537 6.5529208)</td>\n",
       "      <td>Lagos</td>\n",
       "    </tr>\n",
       "  </tbody>\n",
       "</table>\n",
       "</div>"
      ],
      "text/plain": [
       "   Order ID Blood Type  Hospital ID  BloodBank ID Cross Matching  QTY  \\\n",
       "0         1         B+      2154730             1            Yes    5   \n",
       "1         2         O+      1250873             1            Yes    1   \n",
       "\n",
       "                                         Address        lat      long  \\\n",
       "0               Military Hospital, Igbogbi, Lagos  6.522464  3.373477   \n",
       "1  General Hospital Road, Araromi, Gbagada, Lagos  6.552921  3.388054   \n",
       "\n",
       "         Date  Year Month Day of Week                     geometry state_list  \n",
       "0  2016-06-15  2016  June   Wednesday  POINT (3.3734771 6.5224642)      Lagos  \n",
       "1  2016-06-23  2016  June    Thursday  POINT (3.3880537 6.5529208)      Lagos  "
      ]
     },
     "execution_count": 9,
     "metadata": {},
     "output_type": "execute_result"
    }
   ],
   "source": [
    "orders.head(2)"
   ]
  },
  {
   "cell_type": "code",
   "execution_count": 10,
   "metadata": {
    "scrolled": true
   },
   "outputs": [
    {
     "data": {
      "text/html": [
       "<div>\n",
       "<style scoped>\n",
       "    .dataframe tbody tr th:only-of-type {\n",
       "        vertical-align: middle;\n",
       "    }\n",
       "\n",
       "    .dataframe tbody tr th {\n",
       "        vertical-align: top;\n",
       "    }\n",
       "\n",
       "    .dataframe thead th {\n",
       "        text-align: right;\n",
       "    }\n",
       "</style>\n",
       "<table border=\"1\" class=\"dataframe\">\n",
       "  <thead>\n",
       "    <tr style=\"text-align: right;\">\n",
       "      <th></th>\n",
       "      <th>AppID</th>\n",
       "      <th>AppDate</th>\n",
       "      <th>Time</th>\n",
       "      <th>Donor ID</th>\n",
       "      <th>Year</th>\n",
       "      <th>Month</th>\n",
       "      <th>Weekday</th>\n",
       "      <th>Hours</th>\n",
       "    </tr>\n",
       "  </thead>\n",
       "  <tbody>\n",
       "    <tr>\n",
       "      <td>0</td>\n",
       "      <td>17</td>\n",
       "      <td>2016-06-18</td>\n",
       "      <td>10:00</td>\n",
       "      <td>2543</td>\n",
       "      <td>2016</td>\n",
       "      <td>6</td>\n",
       "      <td>Saturday</td>\n",
       "      <td>10</td>\n",
       "    </tr>\n",
       "    <tr>\n",
       "      <td>1</td>\n",
       "      <td>18</td>\n",
       "      <td>2016-06-24</td>\n",
       "      <td>09:00</td>\n",
       "      <td>2544</td>\n",
       "      <td>2016</td>\n",
       "      <td>6</td>\n",
       "      <td>Friday</td>\n",
       "      <td>9</td>\n",
       "    </tr>\n",
       "  </tbody>\n",
       "</table>\n",
       "</div>"
      ],
      "text/plain": [
       "   AppID     AppDate   Time  Donor ID  Year  Month   Weekday  Hours\n",
       "0     17  2016-06-18  10:00      2543  2016      6  Saturday     10\n",
       "1     18  2016-06-24  09:00      2544  2016      6    Friday      9"
      ]
     },
     "execution_count": 10,
     "metadata": {},
     "output_type": "execute_result"
    }
   ],
   "source": [
    "appt.head(2)"
   ]
  },
  {
   "cell_type": "code",
   "execution_count": 11,
   "metadata": {
    "scrolled": true
   },
   "outputs": [
    {
     "data": {
      "text/html": [
       "<div>\n",
       "<style scoped>\n",
       "    .dataframe tbody tr th:only-of-type {\n",
       "        vertical-align: middle;\n",
       "    }\n",
       "\n",
       "    .dataframe tbody tr th {\n",
       "        vertical-align: top;\n",
       "    }\n",
       "\n",
       "    .dataframe thead th {\n",
       "        text-align: right;\n",
       "    }\n",
       "</style>\n",
       "<table border=\"1\" class=\"dataframe\">\n",
       "  <thead>\n",
       "    <tr style=\"text-align: right;\">\n",
       "      <th></th>\n",
       "      <th>Donor_ ID</th>\n",
       "      <th>Gender</th>\n",
       "      <th>State</th>\n",
       "      <th>Blood Group</th>\n",
       "      <th>Unix Time</th>\n",
       "      <th>cities</th>\n",
       "    </tr>\n",
       "  </thead>\n",
       "  <tbody>\n",
       "    <tr>\n",
       "      <td>0</td>\n",
       "      <td>1</td>\n",
       "      <td>undefined</td>\n",
       "      <td>LA</td>\n",
       "      <td>O+</td>\n",
       "      <td>2018-07-26 12:37:52</td>\n",
       "      <td>lagos</td>\n",
       "    </tr>\n",
       "    <tr>\n",
       "      <td>1</td>\n",
       "      <td>2</td>\n",
       "      <td>undefined</td>\n",
       "      <td>LA</td>\n",
       "      <td>unknown</td>\n",
       "      <td>2018-07-26 12:37:52</td>\n",
       "      <td>lagos</td>\n",
       "    </tr>\n",
       "  </tbody>\n",
       "</table>\n",
       "</div>"
      ],
      "text/plain": [
       "   Donor_ ID     Gender State Blood Group            Unix Time cities\n",
       "0          1  undefined    LA          O+  2018-07-26 12:37:52  lagos\n",
       "1          2  undefined    LA     unknown  2018-07-26 12:37:52  lagos"
      ]
     },
     "execution_count": 11,
     "metadata": {},
     "output_type": "execute_result"
    }
   ],
   "source": [
    "donors.head(2)"
   ]
  },
  {
   "cell_type": "markdown",
   "metadata": {},
   "source": [
    "# Going to merge Appointment and Donors on Donor ID"
   ]
  },
  {
   "cell_type": "code",
   "execution_count": 12,
   "metadata": {
    "scrolled": true
   },
   "outputs": [
    {
     "data": {
      "text/html": [
       "<div>\n",
       "<style scoped>\n",
       "    .dataframe tbody tr th:only-of-type {\n",
       "        vertical-align: middle;\n",
       "    }\n",
       "\n",
       "    .dataframe tbody tr th {\n",
       "        vertical-align: top;\n",
       "    }\n",
       "\n",
       "    .dataframe thead th {\n",
       "        text-align: right;\n",
       "    }\n",
       "</style>\n",
       "<table border=\"1\" class=\"dataframe\">\n",
       "  <thead>\n",
       "    <tr style=\"text-align: right;\">\n",
       "      <th></th>\n",
       "      <th>AppID</th>\n",
       "      <th>AppDate</th>\n",
       "      <th>Time</th>\n",
       "      <th>Donor ID</th>\n",
       "      <th>Year</th>\n",
       "      <th>Month</th>\n",
       "      <th>Weekday</th>\n",
       "      <th>Hours</th>\n",
       "      <th>Donor_ ID</th>\n",
       "      <th>Gender</th>\n",
       "      <th>State</th>\n",
       "      <th>Blood Group</th>\n",
       "      <th>Unix Time</th>\n",
       "      <th>cities</th>\n",
       "    </tr>\n",
       "  </thead>\n",
       "  <tbody>\n",
       "    <tr>\n",
       "      <td>0</td>\n",
       "      <td>17</td>\n",
       "      <td>2016-06-18</td>\n",
       "      <td>10:00</td>\n",
       "      <td>2543</td>\n",
       "      <td>2016</td>\n",
       "      <td>6</td>\n",
       "      <td>Saturday</td>\n",
       "      <td>10</td>\n",
       "      <td>2543.0</td>\n",
       "      <td>male</td>\n",
       "      <td>NaN</td>\n",
       "      <td>unknown</td>\n",
       "      <td>2016-06-15 15:06:47</td>\n",
       "      <td>surulere</td>\n",
       "    </tr>\n",
       "    <tr>\n",
       "      <td>1</td>\n",
       "      <td>18</td>\n",
       "      <td>2016-06-24</td>\n",
       "      <td>09:00</td>\n",
       "      <td>2544</td>\n",
       "      <td>2016</td>\n",
       "      <td>6</td>\n",
       "      <td>Friday</td>\n",
       "      <td>9</td>\n",
       "      <td>2544.0</td>\n",
       "      <td>male</td>\n",
       "      <td>NaN</td>\n",
       "      <td>AB+</td>\n",
       "      <td>2016-06-16 00:25:08</td>\n",
       "      <td>unknown</td>\n",
       "    </tr>\n",
       "  </tbody>\n",
       "</table>\n",
       "</div>"
      ],
      "text/plain": [
       "   AppID     AppDate   Time  Donor ID  Year  Month   Weekday  Hours  \\\n",
       "0     17  2016-06-18  10:00      2543  2016      6  Saturday     10   \n",
       "1     18  2016-06-24  09:00      2544  2016      6    Friday      9   \n",
       "\n",
       "   Donor_ ID Gender State Blood Group            Unix Time    cities  \n",
       "0     2543.0   male   NaN     unknown  2016-06-15 15:06:47  surulere  \n",
       "1     2544.0   male   NaN         AB+  2016-06-16 00:25:08   unknown  "
      ]
     },
     "execution_count": 12,
     "metadata": {},
     "output_type": "execute_result"
    }
   ],
   "source": [
    "appoint_donors=pd.merge(appt, donors, left_on='Donor ID',right_on='Donor_ ID',how='left')\n",
    "appoint_donors.head(2)"
   ]
  },
  {
   "cell_type": "markdown",
   "metadata": {},
   "source": [
    "# Going to use geographic information for Nigeria to populate Sates in appoint_donors dataset"
   ]
  },
  {
   "cell_type": "markdown",
   "metadata": {},
   "source": [
    "import list of Nigerian geographic data from 'https://simplemaps.com/data/ng-cities'"
   ]
  },
  {
   "cell_type": "code",
   "execution_count": 13,
   "metadata": {},
   "outputs": [],
   "source": [
    "nigeria=pd.read_csv('/Users/gvaccar/Downloads/ng.csv')\n",
    "nigeria=nigeria.rename({'admin': 'State'}, axis=1)"
   ]
  },
  {
   "cell_type": "markdown",
   "metadata": {},
   "source": [
    "Create a dictionary with cities as keys and states as vaules, which you are going to use to pupulate States in the\n",
    "appoint_donors dataframe"
   ]
  },
  {
   "cell_type": "code",
   "execution_count": 14,
   "metadata": {},
   "outputs": [],
   "source": [
    "keys= [x.lower() for x in nigeria['city']]\n",
    "values= [x for x in nigeria['State']]\n",
    "dictionary= dict(zip(keys, values))\n"
   ]
  },
  {
   "cell_type": "code",
   "execution_count": 15,
   "metadata": {},
   "outputs": [],
   "source": [
    "appoint_donors['State']=appoint_donors['cities'].map(dictionary)\n",
    "appoint_donors['State']=appoint_donors['State'].transform(lambda x: x.fillna('unknown'))"
   ]
  },
  {
   "cell_type": "code",
   "execution_count": 16,
   "metadata": {},
   "outputs": [],
   "source": [
    "#cleaning the dataframe by dropping Donor_ ID \n",
    "appoint_donors=appoint_donors.drop(['Donor_ ID'], axis=1)"
   ]
  },
  {
   "cell_type": "code",
   "execution_count": 17,
   "metadata": {},
   "outputs": [],
   "source": [
    "# Excluding from the dataframes the rows for which the city or state are unknown\n",
    "appoint_donors['State']=appoint_donors['State'].replace({'Federal Capital Territory': r'Abuja'}, regex=True)"
   ]
  },
  {
   "cell_type": "code",
   "execution_count": 18,
   "metadata": {
    "scrolled": true
   },
   "outputs": [
    {
     "data": {
      "text/html": [
       "<div>\n",
       "<style scoped>\n",
       "    .dataframe tbody tr th:only-of-type {\n",
       "        vertical-align: middle;\n",
       "    }\n",
       "\n",
       "    .dataframe tbody tr th {\n",
       "        vertical-align: top;\n",
       "    }\n",
       "\n",
       "    .dataframe thead th {\n",
       "        text-align: right;\n",
       "    }\n",
       "</style>\n",
       "<table border=\"1\" class=\"dataframe\">\n",
       "  <thead>\n",
       "    <tr style=\"text-align: right;\">\n",
       "      <th></th>\n",
       "      <th>AppID</th>\n",
       "      <th>AppDate</th>\n",
       "      <th>Time</th>\n",
       "      <th>Donor ID</th>\n",
       "      <th>Year</th>\n",
       "      <th>Month</th>\n",
       "      <th>Weekday</th>\n",
       "      <th>Hours</th>\n",
       "      <th>Gender</th>\n",
       "      <th>State</th>\n",
       "      <th>Blood Group</th>\n",
       "      <th>Unix Time</th>\n",
       "      <th>cities</th>\n",
       "    </tr>\n",
       "  </thead>\n",
       "  <tbody>\n",
       "    <tr>\n",
       "      <td>0</td>\n",
       "      <td>17</td>\n",
       "      <td>2016-06-18</td>\n",
       "      <td>10:00</td>\n",
       "      <td>2543</td>\n",
       "      <td>2016</td>\n",
       "      <td>6</td>\n",
       "      <td>Saturday</td>\n",
       "      <td>10</td>\n",
       "      <td>male</td>\n",
       "      <td>Lagos</td>\n",
       "      <td>unknown</td>\n",
       "      <td>2016-06-15 15:06:47</td>\n",
       "      <td>surulere</td>\n",
       "    </tr>\n",
       "    <tr>\n",
       "      <td>1</td>\n",
       "      <td>18</td>\n",
       "      <td>2016-06-24</td>\n",
       "      <td>09:00</td>\n",
       "      <td>2544</td>\n",
       "      <td>2016</td>\n",
       "      <td>6</td>\n",
       "      <td>Friday</td>\n",
       "      <td>9</td>\n",
       "      <td>male</td>\n",
       "      <td>unknown</td>\n",
       "      <td>AB+</td>\n",
       "      <td>2016-06-16 00:25:08</td>\n",
       "      <td>unknown</td>\n",
       "    </tr>\n",
       "  </tbody>\n",
       "</table>\n",
       "</div>"
      ],
      "text/plain": [
       "   AppID     AppDate   Time  Donor ID  Year  Month   Weekday  Hours Gender  \\\n",
       "0     17  2016-06-18  10:00      2543  2016      6  Saturday     10   male   \n",
       "1     18  2016-06-24  09:00      2544  2016      6    Friday      9   male   \n",
       "\n",
       "     State Blood Group            Unix Time    cities  \n",
       "0    Lagos     unknown  2016-06-15 15:06:47  surulere  \n",
       "1  unknown         AB+  2016-06-16 00:25:08   unknown  "
      ]
     },
     "execution_count": 18,
     "metadata": {},
     "output_type": "execute_result"
    }
   ],
   "source": [
    "appoint_donors.head(2)"
   ]
  },
  {
   "cell_type": "markdown",
   "metadata": {},
   "source": [
    "# Stock Level Analysis"
   ]
  },
  {
   "cell_type": "code",
   "execution_count": 19,
   "metadata": {},
   "outputs": [],
   "source": [
    "# makig sure that the dates for orders and appointments_donors are aligned\n",
    "\n",
    "min_order_date= orders['Date'].min()\n",
    "\n",
    "max_order_date= orders['Date'].max()\n",
    "\n",
    "app_don_reduced=appoint_donors[(appoint_donors.AppDate >= min_order_date) & (\n",
    "                           appoint_donors.AppDate <= max_order_date)]"
   ]
  },
  {
   "cell_type": "code",
   "execution_count": 20,
   "metadata": {},
   "outputs": [
    {
     "name": "stdout",
     "output_type": "stream",
     "text": [
      "2016-06-18\n",
      "2020-03-16\n"
     ]
    }
   ],
   "source": [
    "print(app_don_reduced['AppDate'].min())\n",
    "print(app_don_reduced['AppDate'].max())"
   ]
  },
  {
   "cell_type": "markdown",
   "metadata": {},
   "source": [
    "# Creating a dataframe with daily Blood orders and daily Blood Donations"
   ]
  },
  {
   "cell_type": "markdown",
   "metadata": {},
   "source": [
    "this is going to be used as a base for the calculation of the daily blood stock"
   ]
  },
  {
   "cell_type": "code",
   "execution_count": 21,
   "metadata": {},
   "outputs": [],
   "source": [
    "donations=app_don_reduced[['AppDate','AppID']].groupby('AppDate').count().reset_index().copy()"
   ]
  },
  {
   "cell_type": "code",
   "execution_count": 22,
   "metadata": {},
   "outputs": [],
   "source": [
    "blood_demand=orders[['Date','QTY']].groupby('Date').sum().reset_index().copy()"
   ]
  },
  {
   "cell_type": "code",
   "execution_count": 23,
   "metadata": {
    "scrolled": false
   },
   "outputs": [
    {
     "data": {
      "text/html": [
       "<div>\n",
       "<style scoped>\n",
       "    .dataframe tbody tr th:only-of-type {\n",
       "        vertical-align: middle;\n",
       "    }\n",
       "\n",
       "    .dataframe tbody tr th {\n",
       "        vertical-align: top;\n",
       "    }\n",
       "\n",
       "    .dataframe thead th {\n",
       "        text-align: right;\n",
       "    }\n",
       "</style>\n",
       "<table border=\"1\" class=\"dataframe\">\n",
       "  <thead>\n",
       "    <tr style=\"text-align: right;\">\n",
       "      <th></th>\n",
       "      <th>Date</th>\n",
       "      <th>QTY</th>\n",
       "      <th>AppID</th>\n",
       "    </tr>\n",
       "  </thead>\n",
       "  <tbody>\n",
       "    <tr>\n",
       "      <td>1412</td>\n",
       "      <td>2020-03-16</td>\n",
       "      <td>11.0</td>\n",
       "      <td>1.0</td>\n",
       "    </tr>\n",
       "    <tr>\n",
       "      <td>1411</td>\n",
       "      <td>2020-03-15</td>\n",
       "      <td>28.0</td>\n",
       "      <td>1.0</td>\n",
       "    </tr>\n",
       "    <tr>\n",
       "      <td>1410</td>\n",
       "      <td>2020-03-14</td>\n",
       "      <td>14.0</td>\n",
       "      <td>4.0</td>\n",
       "    </tr>\n",
       "    <tr>\n",
       "      <td>1409</td>\n",
       "      <td>2020-03-13</td>\n",
       "      <td>22.0</td>\n",
       "      <td>0.0</td>\n",
       "    </tr>\n",
       "    <tr>\n",
       "      <td>1408</td>\n",
       "      <td>2020-03-12</td>\n",
       "      <td>19.0</td>\n",
       "      <td>0.0</td>\n",
       "    </tr>\n",
       "  </tbody>\n",
       "</table>\n",
       "</div>"
      ],
      "text/plain": [
       "            Date   QTY  AppID\n",
       "1412  2020-03-16  11.0    1.0\n",
       "1411  2020-03-15  28.0    1.0\n",
       "1410  2020-03-14  14.0    4.0\n",
       "1409  2020-03-13  22.0    0.0\n",
       "1408  2020-03-12  19.0    0.0"
      ]
     },
     "execution_count": 23,
     "metadata": {},
     "output_type": "execute_result"
    }
   ],
   "source": [
    "dates = pd.date_range(min_order_date, max_order_date).to_list()\n",
    "df = pd.DataFrame()\n",
    "df['Date'] = [datetime.strftime(i, '%Y-%m-%d') for i in dates]\n",
    "df=pd.merge(df, blood_demand, on='Date', how='left')\n",
    "df=pd.merge(df, donations,left_on='Date',right_on='AppDate', how='left')\n",
    "df.drop('AppDate', axis=1, inplace=True)\n",
    "\n",
    "df=df.transform(lambda x: x.fillna(0))\n",
    "df.sort_values(by=['Date'], inplace=True, ascending=False)\n",
    "df.reset_index(drop=True)\n",
    "df.head()"
   ]
  },
  {
   "cell_type": "markdown",
   "metadata": {},
   "source": [
    "# Implementation of the function to calcuate the stock level"
   ]
  },
  {
   "cell_type": "code",
   "execution_count": 24,
   "metadata": {},
   "outputs": [],
   "source": [
    "from datetime import timedelta\n",
    "\n",
    "\n",
    "#Creating a few list that we will use later on during the implementation of the function to calculate the stock\n",
    "#level\n",
    "\n",
    "df = df.sort_values('Date')\n",
    "\n",
    "list_of_dates = pd.to_datetime(df.Date, format = \"%Y-%m-%d\")\n",
    "list_orders = df.QTY.astype(int)\n",
    "list_donations = df.AppID.astype(int)"
   ]
  },
  {
   "cell_type": "code",
   "execution_count": 25,
   "metadata": {},
   "outputs": [],
   "source": [
    "def update_stock(date_list, donations, orders):\n",
    "    \n",
    "    Donations_stock =[0] * len(date_list)\n",
    "    Tot_blood_before_using_it = [0] * len(date_list)\n",
    "    Blood_stock_end_day =[0] * len(date_list)\n",
    "    unfulfilled_orders=[0] * len(date_list)\n",
    "    Previous_donations_stock = [0] * len(date_list)\n",
    "    expired_units= [0] * len(date_list)\n",
    "    \n",
    "    for i in range(len(date_list)):\n",
    "        \n",
    "        # Add new donations to the stock based on the number of donations made that day\n",
    "        # wi assume the blood donated can last for 42 days\n",
    "        new_donation_expire_date = date_list[i] + timedelta(days=42)\n",
    "        Add_new_donations = [new_donation_expire_date] * donations[i]\n",
    "        \n",
    "        if i == 0:\n",
    "            Previous_donations_stock = []\n",
    "            Donations_stock[i] = Add_new_donations\n",
    "          \n",
    "        else:\n",
    "            Previous_donations_stock= Donations_stock[i -1]\n",
    "            previus_plus_new = Previous_donations_stock + Add_new_donations\n",
    "            \n",
    "            #Here we remove the expired donations from the Donations_stock (basically we exclude from\n",
    "            #Donations_stock -which is a list of dates- all the dates previous to the current date)\n",
    "            Donations_stock[i] = [x for x in previus_plus_new if x >= date_list[i]]\n",
    "            \n",
    "            # this allows on to keep track of how many units expired\n",
    "            expired_units[i] = len(previus_plus_new) - len(Donations_stock[i])\n",
    "            \n",
    "        #this is my total daily stock of blood that i have before using it in case of positive Orders\n",
    "        Tot_blood_before_using_it[i] = len(Donations_stock[i])\n",
    "\n",
    "        #Remove orders from Donations_stock\n",
    "        if orders[i] >= len(Donations_stock[i]):\n",
    "            unfulfilled_orders[i] = orders[i] - len(Donations_stock[i])\n",
    "            Donations_stock[i] = []\n",
    "            \n",
    "        else:\n",
    "            unfulfilled_orders[i] = 0\n",
    "            Donations_stock[i] = Donations_stock[i][orders[i]:]\n",
    "            \n",
    "        #this is the blood stock that will remain at the end of the day after using it, and that will be carried\n",
    "        #forward to the next day\n",
    "        Blood_stock_end_day[i]= len(Donations_stock[i])\n",
    "                 \n",
    "    return (expired_units, Tot_blood_before_using_it,Blood_stock_end_day, unfulfilled_orders)\n",
    "            \n",
    "            "
   ]
  },
  {
   "cell_type": "code",
   "execution_count": 26,
   "metadata": {},
   "outputs": [],
   "source": [
    "get_data=update_stock(list_of_dates, list_donations, list_orders)"
   ]
  },
  {
   "cell_type": "code",
   "execution_count": 27,
   "metadata": {},
   "outputs": [
    {
     "data": {
      "text/html": [
       "<div>\n",
       "<style scoped>\n",
       "    .dataframe tbody tr th:only-of-type {\n",
       "        vertical-align: middle;\n",
       "    }\n",
       "\n",
       "    .dataframe tbody tr th {\n",
       "        vertical-align: top;\n",
       "    }\n",
       "\n",
       "    .dataframe thead th {\n",
       "        text-align: right;\n",
       "    }\n",
       "</style>\n",
       "<table border=\"1\" class=\"dataframe\">\n",
       "  <thead>\n",
       "    <tr style=\"text-align: right;\">\n",
       "      <th></th>\n",
       "      <th>Date</th>\n",
       "      <th>Daily Blood Orders</th>\n",
       "      <th>Daily Blood Donations</th>\n",
       "      <th>Expired units</th>\n",
       "      <th>Blood prev + curr day</th>\n",
       "      <th>Blood stock end day</th>\n",
       "      <th>Unfulfilled orders</th>\n",
       "    </tr>\n",
       "  </thead>\n",
       "  <tbody>\n",
       "    <tr>\n",
       "      <td>0</td>\n",
       "      <td>2016-05-04</td>\n",
       "      <td>1</td>\n",
       "      <td>0</td>\n",
       "      <td>0</td>\n",
       "      <td>0</td>\n",
       "      <td>0</td>\n",
       "      <td>1</td>\n",
       "    </tr>\n",
       "    <tr>\n",
       "      <td>1</td>\n",
       "      <td>2016-05-05</td>\n",
       "      <td>0</td>\n",
       "      <td>0</td>\n",
       "      <td>0</td>\n",
       "      <td>0</td>\n",
       "      <td>0</td>\n",
       "      <td>0</td>\n",
       "    </tr>\n",
       "    <tr>\n",
       "      <td>2</td>\n",
       "      <td>2016-05-06</td>\n",
       "      <td>0</td>\n",
       "      <td>0</td>\n",
       "      <td>0</td>\n",
       "      <td>0</td>\n",
       "      <td>0</td>\n",
       "      <td>0</td>\n",
       "    </tr>\n",
       "    <tr>\n",
       "      <td>3</td>\n",
       "      <td>2016-05-07</td>\n",
       "      <td>0</td>\n",
       "      <td>0</td>\n",
       "      <td>0</td>\n",
       "      <td>0</td>\n",
       "      <td>0</td>\n",
       "      <td>0</td>\n",
       "    </tr>\n",
       "    <tr>\n",
       "      <td>4</td>\n",
       "      <td>2016-05-08</td>\n",
       "      <td>0</td>\n",
       "      <td>0</td>\n",
       "      <td>0</td>\n",
       "      <td>0</td>\n",
       "      <td>0</td>\n",
       "      <td>0</td>\n",
       "    </tr>\n",
       "  </tbody>\n",
       "</table>\n",
       "</div>"
      ],
      "text/plain": [
       "         Date  Daily Blood Orders  Daily Blood Donations  Expired units  \\\n",
       "0  2016-05-04                   1                      0              0   \n",
       "1  2016-05-05                   0                      0              0   \n",
       "2  2016-05-06                   0                      0              0   \n",
       "3  2016-05-07                   0                      0              0   \n",
       "4  2016-05-08                   0                      0              0   \n",
       "\n",
       "   Blood prev + curr day  Blood stock end day  Unfulfilled orders  \n",
       "0                      0                    0                   1  \n",
       "1                      0                    0                   0  \n",
       "2                      0                    0                   0  \n",
       "3                      0                    0                   0  \n",
       "4                      0                    0                   0  "
      ]
     },
     "execution_count": 27,
     "metadata": {},
     "output_type": "execute_result"
    }
   ],
   "source": [
    "df['Daily Blood Orders'] =  list_orders\n",
    "df['Daily Blood Donations'] =  list_donations\n",
    "\n",
    "df['Expired units'] = get_data[0]\n",
    "df['Blood prev + curr day'] = get_data[1]\n",
    "df['Blood stock end day'] = get_data[2]\n",
    "df['Unfulfilled orders'] = get_data[3]\n",
    "\n",
    "# renaming the columns of blood orders and donations in the previous dataframe just for the sake of clarity\n",
    "df.drop(['QTY','AppID'], axis = 1, inplace=True)\n",
    "\n",
    "df.head()"
   ]
  },
  {
   "cell_type": "code",
   "execution_count": 28,
   "metadata": {},
   "outputs": [],
   "source": [
    "df.to_csv('blood_stock.csv', index=False)"
   ]
  }
 ],
 "metadata": {
  "kernelspec": {
   "display_name": "Python 3",
   "language": "python",
   "name": "python3"
  },
  "language_info": {
   "codemirror_mode": {
    "name": "ipython",
    "version": 3
   },
   "file_extension": ".py",
   "mimetype": "text/x-python",
   "name": "python",
   "nbconvert_exporter": "python",
   "pygments_lexer": "ipython3",
   "version": "3.7.4"
  }
 },
 "nbformat": 4,
 "nbformat_minor": 2
}
